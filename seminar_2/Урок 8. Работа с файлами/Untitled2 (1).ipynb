{
  "nbformat": 4,
  "nbformat_minor": 0,
  "metadata": {
    "colab": {
      "provenance": []
    },
    "kernelspec": {
      "name": "python3",
      "display_name": "Python 3"
    },
    "language_info": {
      "name": "python"
    }
  },
  "cells": [
    {
      "cell_type": "code",
      "execution_count": null,
      "metadata": {
        "id": "dhWg0FMxbcb9"
      },
      "outputs": [],
      "source": [
        "from functions import create_data, find_data, print_data, update_data, delete_data\n",
        "\n",
        "print(\"Добро пожаловать в телефонный справочник!\")\n",
        "\n",
        "while True:\n",
        "    print(\"Добавить запись, нажмите 1;\")\n",
        "    print(\"Найти запись, нажмите 2;\")\n",
        "    print(\"Вывести все данные на экран, нажмите 3;\")\n",
        "    print('Изменить введённые данные, нажмите 4;')\n",
        "    print('Удалить введённые данные, нажмите 5;')\n",
        "    print(\"Для прекращения работы с программой нажмите 0: \")\n",
        "\n",
        "    choice = input()\n",
        "    print()\n",
        "\n",
        "    if choice == '1':\n",
        "        records = []\n",
        "        while True:\n",
        "            line = input(\"Введите ФИО и номер телефона через пробел: \")\n",
        "            records.append(line)\n",
        "            print(records)\n",
        "            another = input(\"Для добавления записи нажмите '1', для отмены '0': \")\n",
        "            if another != '1':\n",
        "                break\n",
        "        create_data(records)\n",
        "        print()\n",
        "\n",
        "    elif choice == '2':\n",
        "        search_query = input(\"Введите данные для поиска: \")\n",
        "        print(\"Поиск...\")\n",
        "        find_data(search_query)\n",
        "        print()\n",
        "\n",
        "    elif choice == '3':\n",
        "        print(\"Выводим все данные...\")\n",
        "        print_data()\n",
        "        print()\n",
        "\n",
        "    elif choice == '4':\n",
        "        key = input('Введите ФИО и номер телефона через пробел для поиска: ')\n",
        "        new_data = input('Введите ФИО и номер телефона через пробел для обновления: ')\n",
        "        print('Обновляем...')\n",
        "        update_data(key, new_data)\n",
        "        print()\n",
        "\n",
        "    elif choice == '5':\n",
        "        key = input('Введите ФИО и номер телефона через пробел для удаления: ')\n",
        "        print('Удаляем...')\n",
        "        delete_data(key)\n",
        "        print()\n",
        "\n",
        "    elif choice == '0':\n",
        "        print('Будем рады видеть Вас снова!')\n",
        "        print()\n",
        "        break\n",
        "\n",
        "    else:\n",
        "        print(\"Такой команды не существует :(\")\n",
        "        print()"
      ]
    }
  ]
}