{
  "nbformat": 4,
  "nbformat_minor": 0,
  "metadata": {
    "colab": {
      "provenance": []
    },
    "kernelspec": {
      "name": "python3",
      "display_name": "Python 3"
    },
    "language_info": {
      "name": "python"
    }
  },
  "cells": [
    {
      "cell_type": "code",
      "execution_count": 2,
      "metadata": {
        "id": "dhWg0FMxbcb9",
        "colab": {
          "base_uri": "https://localhost:8080/"
        },
        "outputId": "6608ead1-66d7-497e-c736-116bbbbd3e2f"
      },
      "outputs": [
        {
          "output_type": "stream",
          "name": "stdout",
          "text": [
            "   human  robot\n",
            "0    1.0    0.0\n",
            "1    0.0    1.0\n",
            "2    1.0    0.0\n",
            "3    0.0    1.0\n",
            "4    0.0    1.0\n"
          ]
        }
      ],
      "source": [
        "import pandas as pd\n",
        "import numpy as np\n",
        "\n",
        "import random\n",
        "lst = ['robot'] * 10\n",
        "lst += ['human'] * 10\n",
        "random.shuffle(lst)\n",
        "data = pd.DataFrame({'whoAmI': lst})\n",
        "\n",
        "classes = data['whoAmI'].unique()\n",
        "class_dict = {cls: i for i, cls in enumerate(classes)}\n",
        "\n",
        "one_hot = np.zeros((len(data), len(classes)))\n",
        "\n",
        "for i, cls in enumerate(data['whoAmI']):\n",
        "    one_hot[i, class_dict[cls]] = 1\n",
        "\n",
        "one_hot_df = pd.DataFrame(one_hot, columns=classes)\n",
        "\n",
        "result = pd.concat([data, one_hot_df], axis=1)\n",
        "\n",
        "result.drop('whoAmI', axis=1, inplace=True)\n",
        "\n",
        "print(result.head())"
      ]
    }
  ]
}